{
 "cells": [
  {
   "cell_type": "code",
   "execution_count": 1,
   "id": "d6bdfe6f",
   "metadata": {},
   "outputs": [
    {
     "name": "stdout",
     "output_type": "stream",
     "text": [
      "rohini education 19\n"
     ]
    }
   ],
   "source": [
    "#class \n",
    "\n",
    "class person():\n",
    "    name = 'rohini'\n",
    "    occupation = 'education'\n",
    "    age = 19\n",
    "    \n",
    "a = person()\n",
    "print(a.name, a.occupation, a.age)"
   ]
  },
  {
   "cell_type": "code",
   "execution_count": 8,
   "id": "9f24bfd1",
   "metadata": {},
   "outputs": [
    {
     "name": "stdout",
     "output_type": "stream",
     "text": [
      "pallavi is doing education at age 18\n"
     ]
    }
   ],
   "source": [
    "class person():\n",
    "    name = 'pallavi'\n",
    "    occupation = 'education'\n",
    "    age = 18\n",
    "    def info(self):                 #self used to access variables that belongs to class\n",
    "        print(f\"{self.name} is doing {self.occupation} at age {self.age}\")\n",
    "    \n",
    "a = person()\n",
    "a.info()"
   ]
  },
  {
   "cell_type": "code",
   "execution_count": 11,
   "id": "ee259f5c",
   "metadata": {},
   "outputs": [
    {
     "name": "stdout",
     "output_type": "stream",
     "text": [
      "rohini is doing freelancing at age 19\n",
      "pallavi is doing education at age 19\n"
     ]
    }
   ],
   "source": [
    "class person():\n",
    "    name = 'pallavi'\n",
    "    occupation = 'education'\n",
    "    age = 19\n",
    "    def info(self):\n",
    "        print(f\"{self.name} is doing {self.occupation} at age {self.age}\")\n",
    "        \n",
    "a = person()\n",
    "b = person()\n",
    "\n",
    "a.name = 'rohini'\n",
    "a.occupation = 'freelancing'\n",
    "a.age = 19\n",
    "\n",
    "a.info()\n",
    "b.info()"
   ]
  },
  {
   "cell_type": "code",
   "execution_count": 18,
   "id": "6a3e4974",
   "metadata": {},
   "outputs": [
    {
     "name": "stdout",
     "output_type": "stream",
     "text": [
      "hey i am a person\n",
      "hey i am a person\n",
      "rohini is a freelancer\n",
      "pallavi is a student\n"
     ]
    }
   ],
   "source": [
    "class person():\n",
    "    \n",
    "    def __init__(self,name,occ):\n",
    "        print('hey i am a person')\n",
    "        self.name = name\n",
    "        self.occ = occ\n",
    "        \n",
    "    def info(self):\n",
    "        print(f\"{self.name} is a {self.occ}\")\n",
    "        \n",
    "a = person(\"rohini\",\"freelancer\")\n",
    "b = person(\"pallavi\",\"student\")\n",
    "a.info()\n",
    "b.info()"
   ]
  },
  {
   "cell_type": "code",
   "execution_count": 7,
   "id": "6612e1cc",
   "metadata": {},
   "outputs": [
    {
     "name": "stdout",
     "output_type": "stream",
     "text": [
      "my name is rohini and my raise amount in 1 sized company is 50 in  Google company\n",
      "my name is pallavi and my raise amount in 2 sized company is 70 in  Apple company\n"
     ]
    }
   ],
   "source": [
    "class employee():\n",
    "    \n",
    "    companyName = 'Apple'\n",
    "    noOfEmployees = 0\n",
    "    \n",
    "    def __init__(self,name):\n",
    "        self.name = name\n",
    "        self.raise_amount = 70            #instance variable\n",
    "        employee.noOfEmployees += 1\n",
    "    \n",
    "    def getdetails(self):\n",
    "        print(f\"my name is {self.name} and my raise amount in {self.noOfEmployees} sized company is {self.raise_amount} in  {self.companyName} company\")\n",
    "        \n",
    "emp1 = employee('rohini')\n",
    "emp1.companyName = 'Google'\n",
    "emp1.raise_amount = 50\n",
    "emp1.getdetails()\n",
    "\n",
    "emp2 = employee('pallavi')\n",
    "emp2.getdetails()"
   ]
  },
  {
   "cell_type": "code",
   "execution_count": 12,
   "id": "f5c5aca3",
   "metadata": {},
   "outputs": [
    {
     "name": "stdout",
     "output_type": "stream",
     "text": [
      "my name is rohini and company is Apple\n",
      "my name is rohini and company is Google\n",
      "Apple\n"
     ]
    }
   ],
   "source": [
    "class employee():\n",
    "    \n",
    "    company = 'Apple'\n",
    "    \n",
    "    def show(self):\n",
    "        print(f\"my name is {self.name} and company is {self.company}\")\n",
    "        \n",
    "    def changecompany(cls, newcompany):\n",
    "        cls.company = newcompany\n",
    "        \n",
    "emp1 = employee()\n",
    "emp1.name = 'rohini'\n",
    "emp1.show()\n",
    "emp1.changecompany('Google')\n",
    "emp1.show()\n",
    "print(employee.company)"
   ]
  },
  {
   "cell_type": "code",
   "execution_count": 15,
   "id": "62ee3b8e",
   "metadata": {},
   "outputs": [
    {
     "name": "stdout",
     "output_type": "stream",
     "text": [
      "my name is rohini and company is Apple\n",
      "my name is rohini and company is Google\n",
      "Google\n"
     ]
    }
   ],
   "source": [
    "#classmethods\n",
    "\n",
    "\n",
    "class employee():\n",
    "    \n",
    "    company = 'Apple'\n",
    "    \n",
    "    def show(self):\n",
    "        print(f\"my name is {self.name} and company is {self.company}\")\n",
    "         \n",
    "    @classmethod\n",
    "    def changecompany(self, newcompany):\n",
    "        self.company = newcompany\n",
    "        \n",
    "emp1 = employee()\n",
    "emp1.name = 'rohini'\n",
    "emp1.show()\n",
    "emp1.changecompany('Google')\n",
    "emp1.show()\n",
    "print(employee.company)"
   ]
  },
  {
   "cell_type": "code",
   "execution_count": null,
   "id": "a97d8345",
   "metadata": {},
   "outputs": [],
   "source": []
  }
 ],
 "metadata": {
  "kernelspec": {
   "display_name": "Python 3 (ipykernel)",
   "language": "python",
   "name": "python3"
  },
  "language_info": {
   "codemirror_mode": {
    "name": "ipython",
    "version": 3
   },
   "file_extension": ".py",
   "mimetype": "text/x-python",
   "name": "python",
   "nbconvert_exporter": "python",
   "pygments_lexer": "ipython3",
   "version": "3.9.13"
  }
 },
 "nbformat": 4,
 "nbformat_minor": 5
}
