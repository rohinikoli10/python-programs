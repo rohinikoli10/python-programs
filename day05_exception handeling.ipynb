{
 "cells": [
  {
   "cell_type": "code",
   "execution_count": null,
   "id": "f2e84249",
   "metadata": {},
   "outputs": [],
   "source": [
    "#exception Handeling"
   ]
  },
  {
   "cell_type": "code",
   "execution_count": null,
   "id": "27bcab6e",
   "metadata": {},
   "outputs": [],
   "source": [
    "#using except"
   ]
  },
  {
   "cell_type": "code",
   "execution_count": 7,
   "id": "bd036d32",
   "metadata": {},
   "outputs": [
    {
     "name": "stdout",
     "output_type": "stream",
     "text": [
      "Enter the number: rohi\n",
      "multiplication table of rohi is\n",
      "invalid input\n",
      "some imp lines of code\n"
     ]
    }
   ],
   "source": [
    "a = input('Enter the number: ')\n",
    "print(f\"multiplication table of {a} is\")\n",
    "\n",
    "try:\n",
    "    for i in range(1,5):\n",
    "        print(f\"{int(a)} 'X' {i}, '=' {int(a*i)}\" )\n",
    "except:                                                     #it will tell error and print next prg\n",
    "    print('invalid input')\n",
    "    \n",
    "print(\"some imp lines of code\")"
   ]
  },
  {
   "cell_type": "code",
   "execution_count": 8,
   "id": "247c2303",
   "metadata": {},
   "outputs": [
    {
     "name": "stdout",
     "output_type": "stream",
     "text": [
      "enter the number7\n",
      "Index Error\n"
     ]
    }
   ],
   "source": [
    "try:\n",
    "    num = int(input('enter the number'))\n",
    "    a = [4,5]\n",
    "    print(a[num])\n",
    "    \n",
    "except ValueError:\n",
    "    print('number entered is not integer')\n",
    "    \n",
    "except IndexError:\n",
    "    print('Index Error')"
   ]
  },
  {
   "cell_type": "code",
   "execution_count": null,
   "id": "babe5619",
   "metadata": {},
   "outputs": [],
   "source": [
    "#using finally\n"
   ]
  },
  {
   "cell_type": "code",
   "execution_count": 9,
   "id": "00bddd3a",
   "metadata": {},
   "outputs": [
    {
     "name": "stdout",
     "output_type": "stream",
     "text": [
      "enter the number2\n",
      "6\n",
      "I am always executed\n"
     ]
    }
   ],
   "source": [
    "try:\n",
    "    l = [1,4,6,3,9]\n",
    "    i = int(input('enter the index: '))\n",
    "    print(l[i])\n",
    "    \n",
    "except:\n",
    "    print(\"some error occured\")\n",
    "    \n",
    "finally:                                      #it always get executed\n",
    "    print('I am always executed')\n",
    "    "
   ]
  },
  {
   "cell_type": "code",
   "execution_count": 10,
   "id": "d28b7b83",
   "metadata": {},
   "outputs": [
    {
     "name": "stdout",
     "output_type": "stream",
     "text": [
      "enter the index: 7\n",
      "some error occured\n",
      "I am always executed\n"
     ]
    }
   ],
   "source": [
    "try:\n",
    "    l = [1,4,6,3,9]\n",
    "    i = int(input('enter the index: '))\n",
    "    print(l[i])\n",
    "    \n",
    "except:\n",
    "    print(\"some error occured\")\n",
    "    \n",
    "finally:\n",
    "    print('I am always executed')"
   ]
  },
  {
   "cell_type": "code",
   "execution_count": 14,
   "id": "bdf13dc1",
   "metadata": {},
   "outputs": [
    {
     "name": "stdout",
     "output_type": "stream",
     "text": [
      "enter the index: 4\n",
      "9\n",
      "0\n"
     ]
    }
   ],
   "source": [
    "def fun():\n",
    "    try:\n",
    "        l = [1,4,6,3,9]\n",
    "        i = int(input('enter the index: '))\n",
    "        print(l[i])\n",
    "        return 0\n",
    "\n",
    "    except:\n",
    "        print(\"some error occured\")\n",
    "        return 1\n",
    "\n",
    "        print('I am always executed')             \n",
    "        \n",
    "x = fun()\n",
    "print(x)"
   ]
  },
  {
   "cell_type": "code",
   "execution_count": 11,
   "id": "15a32052",
   "metadata": {},
   "outputs": [
    {
     "name": "stdout",
     "output_type": "stream",
     "text": [
      "enter the index: 7\n",
      "some error occured\n",
      "1\n"
     ]
    }
   ],
   "source": [
    "def fun():\n",
    "    try:\n",
    "        l = [1,4,6,3,9]\n",
    "        i = int(input('enter the index: '))\n",
    "        print(l[i])\n",
    "        return 0\n",
    "\n",
    "    except:\n",
    "        print(\"some error occured\")\n",
    "        return 1\n",
    "\n",
    "        print('I am always executed')             \n",
    "        \n",
    "x = fun()\n",
    "print(x)"
   ]
  },
  {
   "cell_type": "code",
   "execution_count": 12,
   "id": "ff33b52f",
   "metadata": {},
   "outputs": [
    {
     "name": "stdout",
     "output_type": "stream",
     "text": [
      "enter the index: 8\n",
      "some error occured\n",
      "I am always executed\n",
      "1\n"
     ]
    }
   ],
   "source": [
    "def fun():\n",
    "    try:\n",
    "        l = [1,4,6,3,9]\n",
    "        i = int(input('enter the index: '))\n",
    "        print(l[i])\n",
    "        return 0\n",
    "\n",
    "    except:\n",
    "        print(\"some error occured\")\n",
    "        return 1\n",
    "\n",
    "    finally:\n",
    "        print('I am always executed')             \n",
    "        \n",
    "x = fun()\n",
    "print(x)"
   ]
  },
  {
   "cell_type": "code",
   "execution_count": null,
   "id": "46e5de50",
   "metadata": {},
   "outputs": [],
   "source": [
    "#raise"
   ]
  },
  {
   "cell_type": "code",
   "execution_count": 15,
   "id": "290e7548",
   "metadata": {},
   "outputs": [
    {
     "name": "stdout",
     "output_type": "stream",
     "text": [
      "enter any no. between 35 and 89 : 100\n"
     ]
    },
    {
     "ename": "ValueError",
     "evalue": "Value should be between 35 and 89",
     "output_type": "error",
     "traceback": [
      "\u001b[1;31m---------------------------------------------------------------------------\u001b[0m",
      "\u001b[1;31mValueError\u001b[0m                                Traceback (most recent call last)",
      "\u001b[1;32m~\\AppData\\Local\\Temp\\ipykernel_21612\\455911235.py\u001b[0m in \u001b[0;36m<module>\u001b[1;34m\u001b[0m\n\u001b[0;32m      1\u001b[0m \u001b[0mb\u001b[0m \u001b[1;33m=\u001b[0m \u001b[0mint\u001b[0m\u001b[1;33m(\u001b[0m\u001b[0minput\u001b[0m\u001b[1;33m(\u001b[0m\u001b[1;34m'enter any no. between 35 and 89 : '\u001b[0m\u001b[1;33m)\u001b[0m\u001b[1;33m)\u001b[0m\u001b[1;33m\u001b[0m\u001b[1;33m\u001b[0m\u001b[0m\n\u001b[0;32m      2\u001b[0m \u001b[1;32mif\u001b[0m \u001b[0mb\u001b[0m\u001b[1;33m<\u001b[0m\u001b[1;36m35\u001b[0m \u001b[1;32mor\u001b[0m \u001b[0mb\u001b[0m\u001b[1;33m>\u001b[0m\u001b[1;36m89\u001b[0m\u001b[1;33m:\u001b[0m\u001b[1;33m\u001b[0m\u001b[1;33m\u001b[0m\u001b[0m\n\u001b[1;32m----> 3\u001b[1;33m     \u001b[1;32mraise\u001b[0m \u001b[0mValueError\u001b[0m\u001b[1;33m(\u001b[0m\u001b[1;34m'Value should be between 35 and 89'\u001b[0m\u001b[1;33m)\u001b[0m\u001b[1;33m\u001b[0m\u001b[1;33m\u001b[0m\u001b[0m\n\u001b[0m",
      "\u001b[1;31mValueError\u001b[0m: Value should be between 35 and 89"
     ]
    }
   ],
   "source": [
    "b = int(input('enter any no. between 35 and 89 : '))\n",
    "if b<35 or b>89:\n",
    "    raise ValueError('Value should be between 35 and 89')         #CUSTOM ERROR (stops further prg giving error)"
   ]
  },
  {
   "cell_type": "code",
   "execution_count": 37,
   "id": "f1a97a19",
   "metadata": {},
   "outputs": [
    {
     "name": "stdout",
     "output_type": "stream",
     "text": [
      "enter any no. between 35 and 89 : 66\n"
     ]
    }
   ],
   "source": [
    "b = int(input('enter any no. between 35 and 89 : '))\n",
    "\n",
    "if b<35 and b>89:\n",
    "    raise ValueError('Value should be between 35 and 89')\n",
    " \n",
    "   "
   ]
  },
  {
   "cell_type": "code",
   "execution_count": 33,
   "id": "3bc0d88d",
   "metadata": {},
   "outputs": [
    {
     "name": "stdout",
     "output_type": "stream",
     "text": [
      "enter any no. between 35 and 89 : 999\n",
      "quit\n"
     ]
    }
   ],
   "source": [
    "b = int(input('enter any no. between 35 and 89 : '))\n",
    "if b>35 and b<89:\n",
    "    print('no. is valid')\n",
    "elif b<35 and b>89:\n",
    "    raise ValueError('Value should be between 35 and 89')  \n",
    "else:\n",
    "    print('quit')\n",
    "    "
   ]
  },
  {
   "cell_type": "code",
   "execution_count": 28,
   "id": "6538d30f",
   "metadata": {},
   "outputs": [
    {
     "name": "stdout",
     "output_type": "stream",
     "text": [
      "enter any no. between 35 and 89 : rohi\n",
      "quit\n"
     ]
    }
   ],
   "source": [
    "try:\n",
    "    b = int(input('enter any no. between 35 and 89 : '))\n",
    "\n",
    "    if b>35 and b<89:\n",
    "        print('no. is valid')\n",
    "    else:\n",
    "        raise ValueError('Value should be between 35 and 89')   \n",
    "    \n",
    "except:\n",
    "    print(\"quit\")\n",
    "    "
   ]
  },
  {
   "cell_type": "code",
   "execution_count": null,
   "id": "108256cb",
   "metadata": {},
   "outputs": [],
   "source": []
  }
 ],
 "metadata": {
  "kernelspec": {
   "display_name": "Python 3 (ipykernel)",
   "language": "python",
   "name": "python3"
  },
  "language_info": {
   "codemirror_mode": {
    "name": "ipython",
    "version": 3
   },
   "file_extension": ".py",
   "mimetype": "text/x-python",
   "name": "python",
   "nbconvert_exporter": "python",
   "pygments_lexer": "ipython3",
   "version": "3.9.13"
  }
 },
 "nbformat": 4,
 "nbformat_minor": 5
}
