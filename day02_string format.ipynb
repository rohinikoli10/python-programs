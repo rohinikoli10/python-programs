{
 "cells": [
  {
   "cell_type": "code",
   "execution_count": null,
   "id": "9399faad",
   "metadata": {},
   "outputs": [],
   "source": [
    "#f string"
   ]
  },
  {
   "cell_type": "code",
   "execution_count": 1,
   "id": "090f8d38",
   "metadata": {},
   "outputs": [
    {
     "name": "stdout",
     "output_type": "stream",
     "text": [
      "hey my name is rohini and I am from solapur\n"
     ]
    }
   ],
   "source": [
    "letter = \"hey my name is {} and I am from {}\"\n",
    "name = \"rohini\"\n",
    "city = \"solapur\"\n",
    "\n",
    "print(letter.format(name,city))"
   ]
  },
  {
   "cell_type": "code",
   "execution_count": 2,
   "id": "1c5e81aa",
   "metadata": {},
   "outputs": [
    {
     "name": "stdout",
     "output_type": "stream",
     "text": [
      "hey my name is rohini and I am from solapur\n"
     ]
    }
   ],
   "source": [
    "letter = \"hey my name is {} and I am from {}\"\n",
    "name = \"rohini\"\n",
    "city = \"solapur\"\n",
    "\n",
    "print(f\"hey my name is {name} and I am from {city}\")"
   ]
  },
  {
   "cell_type": "code",
   "execution_count": 3,
   "id": "e777ffd8",
   "metadata": {},
   "outputs": [
    {
     "name": "stdout",
     "output_type": "stream",
     "text": [
      "for only 55.27 dollars\n"
     ]
    }
   ],
   "source": [
    "txt = \"for only {price:.2f} dollars\"                   #.2f gives fraction for 2 decimal\n",
    "print(txt.format(price = 55.265411)) "
   ]
  },
  {
   "cell_type": "code",
   "execution_count": 4,
   "id": "713d08de",
   "metadata": {},
   "outputs": [
    {
     "name": "stdout",
     "output_type": "stream",
     "text": [
      "for only 6565.673 dollars\n"
     ]
    }
   ],
   "source": [
    "text = \"for only {} dollars\"\n",
    "price = 6565.673278\n",
    "print(f\"for only {price:.3f} dollars\")"
   ]
  },
  {
   "cell_type": "code",
   "execution_count": 5,
   "id": "101eea2b",
   "metadata": {},
   "outputs": [
    {
     "name": "stdout",
     "output_type": "stream",
     "text": [
      "give me Rs. 454.58\n"
     ]
    }
   ],
   "source": [
    "b = 454.5848787\n",
    "t = f\"give me Rs. {b:.2f}\"\n",
    "print(t.format(b))"
   ]
  },
  {
   "cell_type": "code",
   "execution_count": 6,
   "id": "3fdacb9c",
   "metadata": {},
   "outputs": [],
   "source": [
    "#doc string\n",
    "\n",
    "\n",
    "\n"
   ]
  },
  {
   "cell_type": "code",
   "execution_count": 7,
   "id": "7574c1b4",
   "metadata": {},
   "outputs": [
    {
     "name": "stdout",
     "output_type": "stream",
     "text": [
      "36\n",
      "Takes in number a and return square of a\n"
     ]
    }
   ],
   "source": [
    "def square(a): \n",
    "    '''Takes in number a and return square of a'''\n",
    "    print(a**2)\n",
    "    \n",
    "square(6)\n",
    "print(square.__doc__)                     #comment is a doc string"
   ]
  },
  {
   "cell_type": "code",
   "execution_count": 8,
   "id": "8a8bba0b",
   "metadata": {},
   "outputs": [],
   "source": [
    "#recursion string\n"
   ]
  },
  {
   "cell_type": "code",
   "execution_count": 9,
   "id": "b6953219",
   "metadata": {},
   "outputs": [
    {
     "name": "stdout",
     "output_type": "stream",
     "text": [
      "24\n",
      "120\n",
      "1\n"
     ]
    }
   ],
   "source": [
    "#to print factorial \n",
    "#factorial of 5 = 5*4*3*2*1 (5*4!)or(5*factorial(4))\n",
    "#formula (factorial = n * factorial(n-1))\n",
    "\n",
    "def factorial(a):\n",
    "    if (a==0 or a==1):\n",
    "        return 1\n",
    "    else:\n",
    "        return a*factorial(a-1)\n",
    "    \n",
    "print(factorial(4))\n",
    "print(factorial(5))\n",
    "print(factorial(0))"
   ]
  },
  {
   "cell_type": "code",
   "execution_count": 10,
   "id": "b50afad8",
   "metadata": {},
   "outputs": [
    {
     "name": "stdout",
     "output_type": "stream",
     "text": [
      "8\n"
     ]
    }
   ],
   "source": [
    "#fibonacci sequence\n",
    "#formula:   fn = fn-1 + fn-2\n",
    "\n",
    "def fibonacci(n):\n",
    "    if n<0:\n",
    "        print(\"Incorrect Input\")\n",
    "    elif n==0:\n",
    "        return 0\n",
    "    elif n==1 or n==2:\n",
    "        return 1\n",
    "    else:\n",
    "        return fibonacci(n-1) + fibonacci(n-2)\n",
    "    \n",
    "print(fibonacci(6))"
   ]
  },
  {
   "cell_type": "code",
   "execution_count": null,
   "id": "799da7c7",
   "metadata": {},
   "outputs": [],
   "source": []
  },
  {
   "cell_type": "code",
   "execution_count": null,
   "id": "f088cb14",
   "metadata": {},
   "outputs": [],
   "source": []
  },
  {
   "cell_type": "code",
   "execution_count": null,
   "id": "3639d47d",
   "metadata": {},
   "outputs": [],
   "source": []
  },
  {
   "cell_type": "code",
   "execution_count": null,
   "id": "fc395e28",
   "metadata": {},
   "outputs": [],
   "source": []
  }
 ],
 "metadata": {
  "kernelspec": {
   "display_name": "Python 3 (ipykernel)",
   "language": "python",
   "name": "python3"
  },
  "language_info": {
   "codemirror_mode": {
    "name": "ipython",
    "version": 3
   },
   "file_extension": ".py",
   "mimetype": "text/x-python",
   "name": "python",
   "nbconvert_exporter": "python",
   "pygments_lexer": "ipython3",
   "version": "3.9.13"
  }
 },
 "nbformat": 4,
 "nbformat_minor": 5
}
