{
 "cells": [
  {
   "cell_type": "code",
   "execution_count": null,
   "id": "f40cb981",
   "metadata": {},
   "outputs": [],
   "source": [
    "#import module"
   ]
  },
  {
   "cell_type": "code",
   "execution_count": 2,
   "id": "1dbca179",
   "metadata": {},
   "outputs": [
    {
     "name": "stdout",
     "output_type": "stream",
     "text": [
      "['__doc__', '__loader__', '__name__', '__package__', '__spec__', 'acos', 'acosh', 'asin', 'asinh', 'atan', 'atan2', 'atanh', 'ceil', 'comb', 'copysign', 'cos', 'cosh', 'degrees', 'dist', 'e', 'erf', 'erfc', 'exp', 'expm1', 'fabs', 'factorial', 'floor', 'fmod', 'frexp', 'fsum', 'gamma', 'gcd', 'hypot', 'inf', 'isclose', 'isfinite', 'isinf', 'isnan', 'isqrt', 'lcm', 'ldexp', 'lgamma', 'log', 'log10', 'log1p', 'log2', 'modf', 'nan', 'nextafter', 'perm', 'pi', 'pow', 'prod', 'radians', 'remainder', 'sin', 'sinh', 'sqrt', 'tan', 'tanh', 'tau', 'trunc', 'ulp']\n"
     ]
    }
   ],
   "source": [
    "import math                       #importing math\n",
    "print(dir(math))                 #dir gives all functions and varibles in math \n"
   ]
  },
  {
   "cell_type": "code",
   "execution_count": 4,
   "id": "e5aca694",
   "metadata": {},
   "outputs": [
    {
     "name": "stdout",
     "output_type": "stream",
     "text": [
      "<built-in function acos> <class 'builtin_function_or_method'>\n",
      "<built-in function ceil> <class 'builtin_function_or_method'>\n",
      "<built-in function comb> <class 'builtin_function_or_method'>\n",
      "<built-in function erf> <class 'builtin_function_or_method'>\n",
      "<built-in function erfc> <class 'builtin_function_or_method'>\n",
      "<built-in function expm1> <class 'builtin_function_or_method'>\n",
      "<built-in function fabs> <class 'builtin_function_or_method'>\n",
      "<built-in function lgamma> <class 'builtin_function_or_method'>\n",
      "<built-in function log1p> <class 'builtin_function_or_method'>\n",
      "nan <class 'float'>\n",
      "<built-in function perm> <class 'builtin_function_or_method'>\n",
      "<built-in function pow> <class 'builtin_function_or_method'>\n",
      "<built-in function prod> <class 'builtin_function_or_method'>\n",
      "6.283185307179586 <class 'float'>\n",
      "<built-in function trunc> <class 'builtin_function_or_method'>\n",
      "<built-in function ulp> <class 'builtin_function_or_method'>\n"
     ]
    }
   ],
   "source": [
    "print(math.acos, type(math.acos))\n",
    "print(math.ceil, type(math.ceil))\n",
    "print(math.comb, type(math.comb))\n",
    "print(math.erf, type(math.erf))\n",
    "print(math.erfc, type(math.erfc))\n",
    "print(math.expm1, type(math.expm1))\n",
    "print(math.fabs, type(math.fabs))\n",
    "print(math.lgamma, type(math.lgamma))\n",
    "print(math.log1p, type(math.log1p))\n",
    "print(math.nan, type(math.nan))\n",
    "print(math.perm, type(math.perm))\n",
    "print(math.pow, type(math.pow))\n",
    "print(math.prod, type(math.prod))\n",
    "print(math.tau, type(math.tau))\n",
    "print(math.trunc, type(math.trunc))\n",
    "print(math.ulp, type(math.ulp))"
   ]
  },
  {
   "cell_type": "code",
   "execution_count": 5,
   "id": "67891651",
   "metadata": {},
   "outputs": [
    {
     "name": "stdout",
     "output_type": "stream",
     "text": [
      "3.1622776601683795\n"
     ]
    }
   ],
   "source": [
    "result = math.sqrt(10)                #square-root of 10\n",
    "print(result)"
   ]
  },
  {
   "cell_type": "code",
   "execution_count": 7,
   "id": "c6b56ff0",
   "metadata": {},
   "outputs": [
    {
     "name": "stdout",
     "output_type": "stream",
     "text": [
      "74.07766226741826\n"
     ]
    }
   ],
   "source": [
    "from math import sqrt, pi\n",
    "result1 = math.sqrt(556)*pi\n",
    "print(result1)"
   ]
  },
  {
   "cell_type": "code",
   "execution_count": 8,
   "id": "51bef4bb",
   "metadata": {},
   "outputs": [
    {
     "name": "stdout",
     "output_type": "stream",
     "text": [
      "1.6094379124341003\n"
     ]
    }
   ],
   "source": [
    "from math import *                      #import * importes all the function in math\n",
    "result2 = math.log(5)\n",
    "print(result2)"
   ]
  },
  {
   "cell_type": "code",
   "execution_count": 12,
   "id": "8ef33bf3",
   "metadata": {},
   "outputs": [
    {
     "name": "stdout",
     "output_type": "stream",
     "text": [
      "0.16119416074646675\n"
     ]
    }
   ],
   "source": [
    "from math import pi, sin as s\n",
    "result3 = sin(56.6)*pi\n",
    "print(result3)"
   ]
  },
  {
   "cell_type": "code",
   "execution_count": 13,
   "id": "ddc880c1",
   "metadata": {},
   "outputs": [
    {
     "name": "stdout",
     "output_type": "stream",
     "text": [
      "-1.6266217992693672\n"
     ]
    }
   ],
   "source": [
    "import math as a\n",
    "result4 = a.cos(67) * a.pi\n",
    "print(result4)\n"
   ]
  },
  {
   "cell_type": "code",
   "execution_count": 17,
   "id": "816089f4",
   "metadata": {},
   "outputs": [
    {
     "name": "stdout",
     "output_type": "stream",
     "text": [
      "1.6094379124341003\n"
     ]
    }
   ],
   "source": [
    "import math as b\n",
    "result5 = b.log1p(4)\n",
    "print(result5)"
   ]
  },
  {
   "cell_type": "code",
   "execution_count": 4,
   "id": "7d7bb30a",
   "metadata": {},
   "outputs": [
    {
     "name": "stdout",
     "output_type": "stream",
     "text": [
      "['__doc__', '__file__', '__loader__', '__name__', '__package__', '__path__', '__spec__']\n"
     ]
    }
   ],
   "source": [
    "import c \n",
    "\n",
    "print(dir(c))"
   ]
  },
  {
   "cell_type": "code",
   "execution_count": null,
   "id": "5acb36e7",
   "metadata": {},
   "outputs": [],
   "source": []
  }
 ],
 "metadata": {
  "kernelspec": {
   "display_name": "Python 3 (ipykernel)",
   "language": "python",
   "name": "python3"
  },
  "language_info": {
   "codemirror_mode": {
    "name": "ipython",
    "version": 3
   },
   "file_extension": ".py",
   "mimetype": "text/x-python",
   "name": "python",
   "nbconvert_exporter": "python",
   "pygments_lexer": "ipython3",
   "version": "3.9.13"
  }
 },
 "nbformat": 4,
 "nbformat_minor": 5
}
