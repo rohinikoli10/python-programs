{
 "cells": [
  {
   "cell_type": "code",
   "execution_count": null,
   "id": "56b02735",
   "metadata": {},
   "outputs": [],
   "source": [
    "#conditional statements"
   ]
  },
  {
   "cell_type": "code",
   "execution_count": null,
   "id": "cffa8c54",
   "metadata": {},
   "outputs": [],
   "source": [
    "#if else condition \n",
    "\n",
    "#syntax\n",
    "\n",
    "#if condition:\n",
    "    #statements\n",
    "#elif condition:\n",
    "    #statements\n",
    "#else:\n",
    "    #statements"
   ]
  },
  {
   "cell_type": "code",
   "execution_count": 2,
   "id": "2e0c173a",
   "metadata": {},
   "outputs": [
    {
     "name": "stdout",
     "output_type": "stream",
     "text": [
      "Enter the number78\n",
      "Enter the number87\n",
      "b is greater\n"
     ]
    }
   ],
   "source": [
    "n = int(input(\"Enter the number\"))\n",
    "b = int(input(\"Enter the number\"))\n",
    "if n>b:\n",
    "    print(\"n is greater\")\n",
    "else:\n",
    "    print(\"b is greater\")"
   ]
  },
  {
   "cell_type": "code",
   "execution_count": 3,
   "id": "c00f284d",
   "metadata": {},
   "outputs": [
    {
     "name": "stdout",
     "output_type": "stream",
     "text": [
      "enter the number98\n",
      "enter the number67\n",
      "Area of square is :  6566\n"
     ]
    }
   ],
   "source": [
    "u = int(input(\"enter the number\"))\n",
    "j = int(input(\"enter the number\"))\n",
    "area = u*j\n",
    "perimeter = 2*(u+j)\n",
    "\n",
    "if u>j:\n",
    "    print(\"Area of square is : \",area)\n",
    "elif u==j:\n",
    "    print(\"Perimeter of square is : \",perimeter)\n",
    "else:\n",
    "    print(\"It is not a square\")"
   ]
  },
  {
   "cell_type": "code",
   "execution_count": null,
   "id": "4bfb0144",
   "metadata": {},
   "outputs": [],
   "source": [
    "#while statement\n",
    "\n",
    "#syntax\n",
    "\n",
    "#initialize\n",
    "#while condition:\n",
    "    #statements\n",
    "    #counter"
   ]
  },
  {
   "cell_type": "code",
   "execution_count": 4,
   "id": "15b89e8e",
   "metadata": {},
   "outputs": [
    {
     "name": "stdout",
     "output_type": "stream",
     "text": [
      "1\n",
      "2\n",
      "3\n",
      "4\n",
      "5\n",
      "6\n",
      "7\n",
      "8\n",
      "9\n",
      "10\n"
     ]
    }
   ],
   "source": [
    "n = 1\n",
    "while n<=10:\n",
    "    print(n)\n",
    "    n+=1\n"
   ]
  },
  {
   "cell_type": "code",
   "execution_count": 5,
   "id": "07034c26",
   "metadata": {},
   "outputs": [
    {
     "name": "stdout",
     "output_type": "stream",
     "text": [
      "Enter the number to print the multiplication table: 77\n",
      "The Multiplication Table of:  77\n",
      "77 x 1 = 77\n",
      "77 x 2 = 154\n",
      "77 x 3 = 231\n",
      "77 x 4 = 308\n",
      "77 x 5 = 385\n",
      "77 x 6 = 462\n",
      "77 x 7 = 539\n",
      "77 x 8 = 616\n",
      "77 x 9 = 693\n",
      "77 x 10 = 770\n"
     ]
    }
   ],
   "source": [
    "number = int(input (\"Enter the number to print the multiplication table: \"))      \n",
    "count = 1          \n",
    "print (\"The Multiplication Table of: \", number) \n",
    "\n",
    "while count <= 10:    \n",
    "    number = number * 1    \n",
    "    print (number, 'x', count, '=', number * count)    \n",
    "    count += 1 "
   ]
  },
  {
   "cell_type": "code",
   "execution_count": 6,
   "id": "0d213140",
   "metadata": {},
   "outputs": [
    {
     "name": "stdout",
     "output_type": "stream",
     "text": [
      "The multiplication table of no.= 99\n",
      "99 x 1 = 99\n",
      "99 x 2 = 198\n",
      "99 x 3 = 297\n",
      "99 x 4 = 396\n",
      "99 x 5 = 495\n",
      "99 x 6 = 594\n",
      "99 x 7 = 693\n",
      "99 x 8 = 792\n",
      "99 x 9 = 891\n",
      "99 x 10 = 990\n"
     ]
    }
   ],
   "source": [
    "n = int(input(\"The multiplication table of no.= \"))\n",
    "c = 1\n",
    "\n",
    "while c<=10:\n",
    "    print(n, 'x', c, '=', n*c)\n",
    "    c+=1 "
   ]
  },
  {
   "cell_type": "code",
   "execution_count": 1,
   "id": "fc51460c",
   "metadata": {},
   "outputs": [
    {
     "name": "stdout",
     "output_type": "stream",
     "text": [
      "The multiplication table of no.= 76\n"
     ]
    }
   ],
   "source": [
    "n = int(input(\"The multiplication table of no.= \"))\n",
    "c = 1                               #start multiplication from no. 1\n",
    "\n",
    "while c<=10:\n",
    "    print(n, 'x', c, '=', n*c)\n",
    "    c-=99                          #infinity loop for table starts with diff. of -99 "
   ]
  },
  {
   "cell_type": "code",
   "execution_count": null,
   "id": "69f73847",
   "metadata": {},
   "outputs": [],
   "source": [
    "#for loop\n",
    "\n",
    "#syntax\n",
    "\n",
    "#for i in range(start, stop, step):\n",
    "    #statements"
   ]
  },
  {
   "cell_type": "code",
   "execution_count": 7,
   "id": "da83913b",
   "metadata": {},
   "outputs": [
    {
     "name": "stdout",
     "output_type": "stream",
     "text": [
      "3\n",
      "4\n",
      "5\n",
      "6\n"
     ]
    }
   ],
   "source": [
    "for i in range(3,7):\n",
    "    print(i)"
   ]
  },
  {
   "cell_type": "code",
   "execution_count": 8,
   "id": "65736eaf",
   "metadata": {},
   "outputs": [
    {
     "name": "stdout",
     "output_type": "stream",
     "text": [
      "1\n",
      "3\n",
      "5\n",
      "7\n",
      "9\n"
     ]
    }
   ],
   "source": [
    "for i in range(1,10,2):\n",
    "    print(i)"
   ]
  },
  {
   "cell_type": "code",
   "execution_count": 11,
   "id": "fcfbd8fa",
   "metadata": {},
   "outputs": [
    {
     "name": "stdout",
     "output_type": "stream",
     "text": [
      "2\n",
      "4\n",
      "6\n",
      "8\n",
      "10\n"
     ]
    }
   ],
   "source": [
    "for i in range(2,11,2):\n",
    "    print(i)"
   ]
  },
  {
   "cell_type": "code",
   "execution_count": 15,
   "id": "ced61968",
   "metadata": {},
   "outputs": [
    {
     "name": "stdout",
     "output_type": "stream",
     "text": [
      "Table of= 88\n",
      "88 x 1 = 88\n",
      "88 x 2 = 176\n",
      "88 x 3 = 264\n",
      "88 x 4 = 352\n",
      "88 x 5 = 440\n",
      "88 x 6 = 528\n",
      "88 x 7 = 616\n",
      "88 x 8 = 704\n",
      "88 x 9 = 792\n",
      "88 x 10 = 880\n"
     ]
    }
   ],
   "source": [
    "a = int(input(\"Table of= \"))\n",
    "for b in range(1,11):\n",
    "    print(a, 'x', b, '=', a*b)"
   ]
  },
  {
   "cell_type": "code",
   "execution_count": 17,
   "id": "44a187ee",
   "metadata": {},
   "outputs": [
    {
     "name": "stdout",
     "output_type": "stream",
     "text": [
      "Table of= 55\n",
      "(55, 'x', 1, '=', 55)        (55, 'x', 1, '=', 55)\n",
      "(55, 'x', 2, '=', 110)        (55, 'x', 2, '=', 110)\n",
      "(55, 'x', 3, '=', 165)        (55, 'x', 3, '=', 165)\n",
      "(55, 'x', 4, '=', 220)        (55, 'x', 4, '=', 220)\n",
      "(55, 'x', 5, '=', 275)        (55, 'x', 5, '=', 275)\n",
      "(55, 'x', 6, '=', 330)        (55, 'x', 6, '=', 330)\n",
      "(55, 'x', 7, '=', 385)        (55, 'x', 7, '=', 385)\n",
      "(55, 'x', 8, '=', 440)        (55, 'x', 8, '=', 440)\n",
      "(55, 'x', 9, '=', 495)        (55, 'x', 9, '=', 495)\n",
      "(55, 'x', 10, '=', 550)        (55, 'x', 10, '=', 550)\n",
      "(55, 'x', 11, '=', 605)        (55, 'x', 11, '=', 605)\n",
      "(55, 'x', 12, '=', 660)        (55, 'x', 12, '=', 660)\n",
      "(55, 'x', 13, '=', 715)        (55, 'x', 13, '=', 715)\n",
      "(55, 'x', 14, '=', 770)        (55, 'x', 14, '=', 770)\n",
      "(55, 'x', 15, '=', 825)        (55, 'x', 15, '=', 825)\n",
      "(55, 'x', 16, '=', 880)        (55, 'x', 16, '=', 880)\n",
      "(55, 'x', 17, '=', 935)        (55, 'x', 17, '=', 935)\n",
      "(55, 'x', 18, '=', 990)        (55, 'x', 18, '=', 990)\n",
      "(55, 'x', 19, '=', 1045)        (55, 'x', 19, '=', 1045)\n",
      "(55, 'x', 20, '=', 1100)        (55, 'x', 20, '=', 1100)\n"
     ]
    }
   ],
   "source": [
    "a = int(input(\"Table of= \"))\n",
    "for b in range(1,21):\n",
    "    print(f\"{a, 'x', b, '=', a*b}        {a, 'x', b, '=', a*b}\")            #f string method"
   ]
  },
  {
   "cell_type": "code",
   "execution_count": 22,
   "id": "7b772353",
   "metadata": {},
   "outputs": [
    {
     "name": "stdout",
     "output_type": "stream",
     "text": [
      "h\n",
      "e\n",
      "l\n",
      "l\n",
      "o\n",
      " \n",
      "m\n",
      "y\n",
      " \n",
      "n\n"
     ]
    }
   ],
   "source": [
    "#use break\n",
    "\n",
    "for c in \"hello my name is rohini\":\n",
    "    if c==\"a\":\n",
    "        break\n",
    "    print(c)"
   ]
  },
  {
   "cell_type": "code",
   "execution_count": 23,
   "id": "6f0f3527",
   "metadata": {},
   "outputs": [
    {
     "name": "stdout",
     "output_type": "stream",
     "text": [
      "H\n",
      "e\n",
      "y\n",
      " \n",
      "g\n",
      "d\n",
      " \n",
      "m\n",
      "r\n",
      "n\n",
      "i\n",
      "n\n",
      "g\n"
     ]
    }
   ],
   "source": [
    "#continue\n",
    "\n",
    "for d in \"Hey good morning\":\n",
    "    if d==\"o\":\n",
    "        continue\n",
    "    print(d)"
   ]
  },
  {
   "cell_type": "code",
   "execution_count": null,
   "id": "262e2394",
   "metadata": {},
   "outputs": [],
   "source": [
    "#else in loop\n",
    "\n",
    "\n"
   ]
  },
  {
   "cell_type": "code",
   "execution_count": 1,
   "id": "30dc1f01",
   "metadata": {},
   "outputs": [
    {
     "name": "stdout",
     "output_type": "stream",
     "text": [
      "0\n",
      "1\n",
      "2\n",
      "3\n",
      "4\n",
      "sorry no i\n"
     ]
    }
   ],
   "source": [
    "for i in range(5):\n",
    "    print(i)\n",
    "else:\n",
    "    print(\"sorry no i\")"
   ]
  },
  {
   "cell_type": "code",
   "execution_count": 2,
   "id": "59185fea",
   "metadata": {},
   "outputs": [
    {
     "name": "stdout",
     "output_type": "stream",
     "text": [
      "0\n",
      "1\n",
      "2\n",
      "3\n",
      "4\n"
     ]
    }
   ],
   "source": [
    "for i in range(5):\n",
    "    print(i)\n",
    "    if i==4:\n",
    "        break\n",
    "else:\n",
    "    print(\"sorry no i\")"
   ]
  },
  {
   "cell_type": "code",
   "execution_count": 3,
   "id": "cf61c046",
   "metadata": {},
   "outputs": [
    {
     "name": "stdout",
     "output_type": "stream",
     "text": [
      "0\n",
      "1\n",
      "2\n",
      "3\n",
      "4\n",
      "5\n",
      "sorry no a\n"
     ]
    }
   ],
   "source": [
    "a = 0\n",
    "while a<=5:\n",
    "    print(a)\n",
    "    a = a+1\n",
    "else:\n",
    "    print(\"sorry no a\")"
   ]
  },
  {
   "cell_type": "code",
   "execution_count": 4,
   "id": "b4b945a0",
   "metadata": {},
   "outputs": [
    {
     "name": "stdout",
     "output_type": "stream",
     "text": [
      "0\n",
      "1\n",
      "2\n",
      "3\n",
      "4\n",
      "5\n",
      "sorry no a\n"
     ]
    }
   ],
   "source": [
    "a = 0\n",
    "while a<=5:\n",
    "    print(a)\n",
    "    a = a+1\n",
    "    if a==3:\n",
    "        continue\n",
    "else:\n",
    "    print(\"sorry no a\")"
   ]
  },
  {
   "cell_type": "code",
   "execution_count": 5,
   "id": "fc6b3083",
   "metadata": {},
   "outputs": [
    {
     "name": "stdout",
     "output_type": "stream",
     "text": [
      "0\n",
      "1\n",
      "2\n"
     ]
    }
   ],
   "source": [
    "a = 0\n",
    "while a<=5:\n",
    "    print(a)\n",
    "    a = a+1\n",
    "    if a==3:\n",
    "        break\n",
    "else:\n",
    "    print(\"sorry no a\")"
   ]
  },
  {
   "cell_type": "code",
   "execution_count": null,
   "id": "735725f6",
   "metadata": {},
   "outputs": [],
   "source": []
  }
 ],
 "metadata": {
  "kernelspec": {
   "display_name": "Python 3 (ipykernel)",
   "language": "python",
   "name": "python3"
  },
  "language_info": {
   "codemirror_mode": {
    "name": "ipython",
    "version": 3
   },
   "file_extension": ".py",
   "mimetype": "text/x-python",
   "name": "python",
   "nbconvert_exporter": "python",
   "pygments_lexer": "ipython3",
   "version": "3.9.13"
  }
 },
 "nbformat": 4,
 "nbformat_minor": 5
}
