{
 "cells": [
  {
   "cell_type": "code",
   "execution_count": 54,
   "id": "f982ecb2",
   "metadata": {},
   "outputs": [
    {
     "name": "stdout",
     "output_type": "stream",
     "text": [
      "[1, 2, 3, 4, 5, 6, 7, 8]\n"
     ]
    }
   ],
   "source": [
    "#lists\n",
    "\n",
    "lst1 = [1,2,3,4,5,6,7]            #adds one value\n",
    "lst1.append(8)\n",
    "print(lst1)"
   ]
  },
  {
   "cell_type": "code",
   "execution_count": 4,
   "id": "f3053d27",
   "metadata": {},
   "outputs": [
    {
     "name": "stdout",
     "output_type": "stream",
     "text": [
      "[1, 2, 3, 4, 5, 9, 6, 7, 8]\n"
     ]
    }
   ],
   "source": [
    "lst1.insert(5,9)                 #insert value in between elements\n",
    "print(lst1)"
   ]
  },
  {
   "cell_type": "code",
   "execution_count": 5,
   "id": "8ce08629",
   "metadata": {},
   "outputs": [
    {
     "name": "stdout",
     "output_type": "stream",
     "text": [
      "[1, 2, 3, 4, 5, 9, 6, 7, 8, 'rohini', 'basit']\n"
     ]
    }
   ],
   "source": [
    "lst1.extend([\"rohini\",\"basit\"])     #extend multiple values\n",
    "print(lst1)"
   ]
  },
  {
   "cell_type": "code",
   "execution_count": 6,
   "id": "97f36314",
   "metadata": {},
   "outputs": [
    {
     "name": "stdout",
     "output_type": "stream",
     "text": [
      "0\n"
     ]
    }
   ],
   "source": [
    "print(lst1.count(10))            #count occurence of specific element\n"
   ]
  },
  {
   "cell_type": "code",
   "execution_count": 7,
   "id": "bd423b82",
   "metadata": {},
   "outputs": [
    {
     "name": "stdout",
     "output_type": "stream",
     "text": [
      "11\n"
     ]
    }
   ],
   "source": [
    "print(len(lst1))               #show length of list"
   ]
  },
  {
   "cell_type": "code",
   "execution_count": 8,
   "id": "65b23733",
   "metadata": {},
   "outputs": [
    {
     "name": "stdout",
     "output_type": "stream",
     "text": [
      "10\n"
     ]
    }
   ],
   "source": [
    "print(lst1.index(\"basit\"))        #show position of element"
   ]
  },
  {
   "cell_type": "code",
   "execution_count": 9,
   "id": "fee81754",
   "metadata": {},
   "outputs": [
    {
     "name": "stdout",
     "output_type": "stream",
     "text": [
      "[1, 2, 3, 4, 5, 9, 6, 8, 'rohini', 'basit']\n"
     ]
    }
   ],
   "source": [
    "lst1.pop(7)               #delete last/specific element\n",
    "print(lst1)"
   ]
  },
  {
   "cell_type": "code",
   "execution_count": 10,
   "id": "500f8927",
   "metadata": {},
   "outputs": [
    {
     "name": "stdout",
     "output_type": "stream",
     "text": [
      "[1, 2, 3, 4, 9, 6, 8, 'rohini', 'basit']\n"
     ]
    }
   ],
   "source": [
    "lst1.remove(5)              #remove element\n",
    "print(lst1)"
   ]
  },
  {
   "cell_type": "code",
   "execution_count": 11,
   "id": "636285e2",
   "metadata": {},
   "outputs": [
    {
     "name": "stdout",
     "output_type": "stream",
     "text": [
      "[1, 2, 3, 4, 9, 6, 8, 'rohini', 'basit']\n"
     ]
    }
   ],
   "source": [
    "a=lst1.copy()            #create same list by copying\n",
    "print(a)"
   ]
  },
  {
   "cell_type": "code",
   "execution_count": 12,
   "id": "0d9b7ec7",
   "metadata": {},
   "outputs": [
    {
     "name": "stdout",
     "output_type": "stream",
     "text": [
      "['basit', 'rohini', 8, 6, 9, 4, 3, 2, 1]\n",
      "['basit', 'rohini', 8, 6, 9, 4, 3, 2, 1]\n"
     ]
    }
   ],
   "source": [
    "lst1.reverse()            #reverses elements\n",
    "print(lst1)\n",
    "a.reverse()\n",
    "print(a)"
   ]
  },
  {
   "cell_type": "code",
   "execution_count": 13,
   "id": "741e96b0",
   "metadata": {},
   "outputs": [
    {
     "name": "stdout",
     "output_type": "stream",
     "text": [
      "['basit', 'rohini', 8, 6, 'Aryan', 4, 3, 2, 1]\n"
     ]
    }
   ],
   "source": [
    "a[4]=\"Aryan\"            \n",
    "print(a)"
   ]
  },
  {
   "cell_type": "code",
   "execution_count": 14,
   "id": "02622693",
   "metadata": {},
   "outputs": [
    {
     "name": "stdout",
     "output_type": "stream",
     "text": [
      "['basit', 'rohini', 8, 6, 9, 4, 3, 2, 1] ['basit', 'rohini', 8, 6, 'Aryan', 4, 3, 2, 1]\n"
     ]
    }
   ],
   "source": [
    "print(lst1,a)"
   ]
  },
  {
   "cell_type": "code",
   "execution_count": 15,
   "id": "26f647d2",
   "metadata": {},
   "outputs": [
    {
     "name": "stdout",
     "output_type": "stream",
     "text": [
      "['basit', 'rohini', 8, 6, 9, 4, 3, 2, 1, 'basit', 'rohini', 8, 6, 'Aryan', 4, 3, 2, 1]\n"
     ]
    }
   ],
   "source": [
    "print(lst1+a)"
   ]
  },
  {
   "cell_type": "code",
   "execution_count": 16,
   "id": "2742ae5e",
   "metadata": {},
   "outputs": [
    {
     "name": "stdout",
     "output_type": "stream",
     "text": [
      "[43, 56, 45, 76, 34, ['basit', 'rohini', 8, 6, 'Aryan', 4, 3, 2, 1]]\n"
     ]
    }
   ],
   "source": [
    "lst2=[43,56,45,76,34,a]\n",
    "print(lst2)"
   ]
  },
  {
   "cell_type": "code",
   "execution_count": 17,
   "id": "62ea66b3",
   "metadata": {},
   "outputs": [
    {
     "name": "stdout",
     "output_type": "stream",
     "text": [
      "[17, 34, 34, 64, 646, 6267]\n"
     ]
    }
   ],
   "source": [
    "b = [34,64,34,646,6267,17]\n",
    "b.sort()                          #ascending order\n",
    "print(b)"
   ]
  },
  {
   "cell_type": "code",
   "execution_count": 18,
   "id": "5bfd3aa8",
   "metadata": {},
   "outputs": [
    {
     "name": "stdout",
     "output_type": "stream",
     "text": [
      "[6267, 646, 64, 34, 34, 17]\n"
     ]
    }
   ],
   "source": [
    "b.sort(reverse=True)              #descending order\n",
    "print(b)"
   ]
  },
  {
   "cell_type": "code",
   "execution_count": 19,
   "id": "10875dd0",
   "metadata": {},
   "outputs": [
    {
     "name": "stdout",
     "output_type": "stream",
     "text": [
      "(6267, 646, 64, 34, 34, 17)\n"
     ]
    }
   ],
   "source": [
    "print(tuple(b))                     #list to tuple"
   ]
  },
  {
   "cell_type": "code",
   "execution_count": 20,
   "id": "bc5b37e2",
   "metadata": {},
   "outputs": [
    {
     "name": "stdout",
     "output_type": "stream",
     "text": [
      "[]\n"
     ]
    }
   ],
   "source": [
    "b.clear()                    #clear the list\n",
    "print(b)"
   ]
  },
  {
   "cell_type": "code",
   "execution_count": 63,
   "id": "1b0f7dc8",
   "metadata": {},
   "outputs": [
    {
     "name": "stdout",
     "output_type": "stream",
     "text": [
      "[4, 8]\n"
     ]
    }
   ],
   "source": [
    "g = [3,5,4,6,6,4,8]\n",
    "print(g[5:7])               #slicing    it gives value from index 5 to 6"
   ]
  },
  {
   "cell_type": "code",
   "execution_count": 21,
   "id": "49e34829",
   "metadata": {},
   "outputs": [],
   "source": [
    "#tuple \n",
    "\n",
    "\n",
    "\n"
   ]
  },
  {
   "cell_type": "code",
   "execution_count": 22,
   "id": "3a7c7e16",
   "metadata": {},
   "outputs": [
    {
     "name": "stdout",
     "output_type": "stream",
     "text": [
      "1\n"
     ]
    }
   ],
   "source": [
    "tup = (545,24,45,75,878,4578,587,57)\n",
    "print(tup.count(45))"
   ]
  },
  {
   "cell_type": "code",
   "execution_count": 23,
   "id": "3b54aeca",
   "metadata": {},
   "outputs": [
    {
     "name": "stdout",
     "output_type": "stream",
     "text": [
      "4\n"
     ]
    }
   ],
   "source": [
    "print(tup.index(878))"
   ]
  },
  {
   "cell_type": "code",
   "execution_count": 24,
   "id": "16e1f099",
   "metadata": {},
   "outputs": [
    {
     "name": "stdout",
     "output_type": "stream",
     "text": [
      "(45, 24, 75, 24, 144, 157) (54787, 54, 547, 78, 577, 4)\n",
      "(45, 24, 75, 24, 144, 157, 54787, 54, 547, 78, 577, 4)\n"
     ]
    }
   ],
   "source": [
    "tup1 = (45,24,75,24,144,157)\n",
    "tup2 = (54787,54,547,78,577,4)\n",
    "print(tup1,tup2)\n",
    "print(tup1+tup2)"
   ]
  },
  {
   "cell_type": "code",
   "execution_count": 25,
   "id": "9f62a166",
   "metadata": {},
   "outputs": [
    {
     "name": "stdout",
     "output_type": "stream",
     "text": [
      "6\n"
     ]
    }
   ],
   "source": [
    "print(len(tup1))"
   ]
  },
  {
   "cell_type": "code",
   "execution_count": 26,
   "id": "ab835752",
   "metadata": {},
   "outputs": [
    {
     "name": "stdout",
     "output_type": "stream",
     "text": [
      "[54787, 54, 547, 78, 577, 4]\n"
     ]
    }
   ],
   "source": [
    "print(list(tup2))             #tuple to list"
   ]
  },
  {
   "cell_type": "code",
   "execution_count": 65,
   "id": "be447100",
   "metadata": {},
   "outputs": [
    {
     "name": "stdout",
     "output_type": "stream",
     "text": [
      "(7, 7)\n"
     ]
    }
   ],
   "source": [
    "h = (53,7,4,7,7,4,3)\n",
    "print(h[3:5])"
   ]
  },
  {
   "cell_type": "code",
   "execution_count": null,
   "id": "010ec856",
   "metadata": {},
   "outputs": [],
   "source": [
    "#sets\n",
    "\n",
    "\n",
    "\n"
   ]
  },
  {
   "cell_type": "code",
   "execution_count": 1,
   "id": "f137055d",
   "metadata": {},
   "outputs": [
    {
     "name": "stdout",
     "output_type": "stream",
     "text": [
      "{245, 478, 247, 24, 57, 5787, 44, 254}\n"
     ]
    }
   ],
   "source": [
    "a = { 24,247,254,5787,57,245,478}\n",
    "a.add(44)\n",
    "print(a)"
   ]
  },
  {
   "cell_type": "code",
   "execution_count": 2,
   "id": "14bd4ca7",
   "metadata": {},
   "outputs": [
    {
     "name": "stdout",
     "output_type": "stream",
     "text": [
      "8\n"
     ]
    }
   ],
   "source": [
    "print(len(a))"
   ]
  },
  {
   "cell_type": "code",
   "execution_count": 30,
   "id": "874f7ca4",
   "metadata": {},
   "outputs": [
    {
     "name": "stdout",
     "output_type": "stream",
     "text": [
      "{'rohini, pallavi, sudha, aryan, sattar'}\n",
      "{' ', 'h', 'a', 'y', 'w', 'm', 'b', 'o', 's', ',', 'i', 't', 'c', 'u'}\n"
     ]
    }
   ],
   "source": [
    "lst1 = [\"rohini, pallavi, sudha, aryan, sattar\"]\n",
    "tup = (\"swaya, basit, shubham, bochya\")\n",
    "print(set(lst1))\n",
    "print(set(tup))"
   ]
  },
  {
   "cell_type": "code",
   "execution_count": 34,
   "id": "58e50f2d",
   "metadata": {},
   "outputs": [
    {
     "name": "stdout",
     "output_type": "stream",
     "text": [
      "{2, 3, 4, 5, 'hey', 'hello'}\n"
     ]
    }
   ],
   "source": [
    "b= {2,4,5,\"hey\"}\n",
    "c= {\"hello\",3,5,3}\n",
    "b.update(c)\n",
    "print(b)"
   ]
  },
  {
   "cell_type": "code",
   "execution_count": 35,
   "id": "d0dc74d8",
   "metadata": {},
   "outputs": [
    {
     "name": "stdout",
     "output_type": "stream",
     "text": [
      "{2, 3, 4, 'hey', 'hello'}\n"
     ]
    }
   ],
   "source": [
    "b.remove(5)\n",
    "print(b)"
   ]
  },
  {
   "cell_type": "code",
   "execution_count": 44,
   "id": "4ed014d4",
   "metadata": {},
   "outputs": [
    {
     "name": "stdout",
     "output_type": "stream",
     "text": [
      "{3, 4, 'hey', 'hello'}\n"
     ]
    }
   ],
   "source": [
    "b.discard(2)\n",
    "print(b)"
   ]
  },
  {
   "cell_type": "code",
   "execution_count": 45,
   "id": "92e10f83",
   "metadata": {},
   "outputs": [
    {
     "name": "stdout",
     "output_type": "stream",
     "text": [
      "None\n"
     ]
    }
   ],
   "source": [
    "print(c.clear())"
   ]
  },
  {
   "cell_type": "code",
   "execution_count": 46,
   "id": "8ebd536c",
   "metadata": {},
   "outputs": [
    {
     "name": "stdout",
     "output_type": "stream",
     "text": [
      "set()\n"
     ]
    }
   ],
   "source": [
    "b.clear()\n",
    "print(b)"
   ]
  },
  {
   "cell_type": "code",
   "execution_count": 52,
   "id": "3d7a9519",
   "metadata": {},
   "outputs": [
    {
     "name": "stdout",
     "output_type": "stream",
     "text": [
      "{'g,h,e,v,h,e,t,h,e', 'r,u,r,g,r,d,g,h,t'}\n",
      "{'g,h,e,v,h,e,t,h,e', 'r,u,r,g,r,d,g,h,t'}\n"
     ]
    }
   ],
   "source": [
    "x = {'r,u,r,g,r,d,g,h,t'}\n",
    "y = {\"g,h,e,v,h,e,t,h,e\"}\n",
    "print(x|y)\n",
    "print(x.union(y))"
   ]
  },
  {
   "cell_type": "code",
   "execution_count": 3,
   "id": "75a37a6f",
   "metadata": {},
   "outputs": [
    {
     "name": "stdout",
     "output_type": "stream",
     "text": [
      "{'o', 'r'}\n"
     ]
    }
   ],
   "source": [
    "x = {'r','o','h','i',}\n",
    "y = {'r','s','o','k'}\n",
    "print(x.intersection(y))"
   ]
  },
  {
   "cell_type": "code",
   "execution_count": 53,
   "id": "f6a895ff",
   "metadata": {},
   "outputs": [
    {
     "name": "stdout",
     "output_type": "stream",
     "text": [
      "set()\n",
      "set()\n",
      "{'r,u,r,g,r,d,g,h,t'}\n"
     ]
    }
   ],
   "source": [
    "print(x&y)\n",
    "print(x.intersection(y))\n",
    "print(x-y)"
   ]
  },
  {
   "cell_type": "code",
   "execution_count": 25,
   "id": "4e7561af",
   "metadata": {},
   "outputs": [
    {
     "name": "stdout",
     "output_type": "stream",
     "text": [
      "{'tokyo', 'oslo'}\n"
     ]
    }
   ],
   "source": [
    "cities = {'tokyo', 'berlin', 'helsanki', 'oslo'}\n",
    "cities2 = {'madrid', 'tokyo', 'oslo'}\n",
    "cities.intersection_update(cities2)\n",
    "print(cities)"
   ]
  },
  {
   "cell_type": "code",
   "execution_count": 26,
   "id": "5ab7977b",
   "metadata": {},
   "outputs": [
    {
     "name": "stdout",
     "output_type": "stream",
     "text": [
      "False\n",
      "True\n"
     ]
    }
   ],
   "source": [
    "print(cities.issuperset(cities2))\n",
    "print(cities.issubset(cities2))"
   ]
  },
  {
   "cell_type": "code",
   "execution_count": 21,
   "id": "465d014f",
   "metadata": {},
   "outputs": [
    {
     "name": "stdout",
     "output_type": "stream",
     "text": [
      "{'madrid'}\n",
      "set()\n"
     ]
    }
   ],
   "source": [
    "cities3 = cities.symmetric_difference(cities2)\n",
    "print(cities3)\n",
    "\n",
    "cities4 = cities.difference(cities2)\n",
    "print(cities4)"
   ]
  },
  {
   "cell_type": "code",
   "execution_count": 22,
   "id": "8cf5f64e",
   "metadata": {},
   "outputs": [
    {
     "name": "stdout",
     "output_type": "stream",
     "text": [
      "False\n"
     ]
    }
   ],
   "source": [
    "print(cities.isdisjoint(cities2))"
   ]
  },
  {
   "cell_type": "code",
   "execution_count": 23,
   "id": "427a74cc",
   "metadata": {},
   "outputs": [
    {
     "name": "stdout",
     "output_type": "stream",
     "text": [
      "True\n"
     ]
    }
   ],
   "source": [
    "cities = {'tokyo1', 'berlin', 'helsanki', 'oslo2'}\n",
    "cities2 = {'madrid', 'tokyo', 'oslo'}\n",
    "print(cities.isdisjoint(cities2))"
   ]
  },
  {
   "cell_type": "code",
   "execution_count": 24,
   "id": "c1876afa",
   "metadata": {},
   "outputs": [
    {
     "name": "stdout",
     "output_type": "stream",
     "text": [
      "False\n",
      "False\n"
     ]
    }
   ],
   "source": [
    "print(cities.issuperset(cities2))\n",
    "print(cities.issubset(cities2))"
   ]
  },
  {
   "cell_type": "code",
   "execution_count": null,
   "id": "b1c381ad",
   "metadata": {},
   "outputs": [],
   "source": []
  },
  {
   "cell_type": "code",
   "execution_count": null,
   "id": "cbf84f97",
   "metadata": {},
   "outputs": [],
   "source": [
    "#dictonary\n",
    "\n",
    "\n",
    "\n"
   ]
  },
  {
   "cell_type": "code",
   "execution_count": 55,
   "id": "f5aea971",
   "metadata": {},
   "outputs": [
    {
     "name": "stdout",
     "output_type": "stream",
     "text": [
      "{1: 'revati', 2: 'pallavi'}\n"
     ]
    }
   ],
   "source": [
    "d = {1 : 'rohini' , 2 : 'pallavi'}\n",
    "d[1] = \"revati\"\n",
    "print(d)"
   ]
  },
  {
   "cell_type": "code",
   "execution_count": 57,
   "id": "441dd388",
   "metadata": {},
   "outputs": [
    {
     "name": "stdout",
     "output_type": "stream",
     "text": [
      "{1: ('Hi', 'Hello'), 2: ('Hi', 'Hello'), 3: ('Hi', 'Hello'), 4: ('Hi', 'Hello')}\n"
     ]
    }
   ],
   "source": [
    "s = {1,2,3,4}\n",
    "f = \"Hi\",\"Hello\"\n",
    "g = dict.fromkeys(s,f)\n",
    "print(g)"
   ]
  },
  {
   "cell_type": "code",
   "execution_count": 59,
   "id": "cb4755f8",
   "metadata": {},
   "outputs": [
    {
     "name": "stdout",
     "output_type": "stream",
     "text": [
      "{1: {'Hi', 'Hello'}, 2: {'Hi', 'Hello'}, 3: {'Hi', 'Hello'}, 4: {'Hi', 'Hello'}}\n"
     ]
    }
   ],
   "source": [
    "h = {1,2,3,4}\n",
    "r = {\"Hi\",\"Hello\"}\n",
    "j = dict.fromkeys(h,r)\n",
    "print(j)"
   ]
  },
  {
   "cell_type": "code",
   "execution_count": 60,
   "id": "62eeba8b",
   "metadata": {},
   "outputs": [
    {
     "name": "stdout",
     "output_type": "stream",
     "text": [
      "{34: None, 4: None, 5: None, 6: None}\n"
     ]
    }
   ],
   "source": [
    "key = {4,5,34,6}\n",
    "t = dict.fromkeys(key)\n",
    "print(t)"
   ]
  },
  {
   "cell_type": "code",
   "execution_count": 13,
   "id": "838346fa",
   "metadata": {},
   "outputs": [
    {
     "name": "stdout",
     "output_type": "stream",
     "text": [
      "{'name': 'rohini', 'age': 19, 'eligible': 'yes'}\n",
      "rohini\n",
      "rohini\n",
      "dict_keys(['name', 'age', 'eligible'])\n",
      "dict_values(['rohini', 19, 'yes'])\n",
      "dict_keys(['name', 'age', 'eligible'])\n",
      "dict_keys(['name', 'age', 'eligible'])\n",
      "dict_keys(['name', 'age', 'eligible'])\n",
      "\n",
      "value corresponding to key is name and value is rohini\n",
      "\n",
      "value corresponding to key is age and value is 19\n",
      "\n",
      "value corresponding to key is eligible and value is yes\n"
     ]
    }
   ],
   "source": [
    "info = {'name' : \"rohini\", 'age' : 19, 'eligible' : \"yes\"}\n",
    "print(info)\n",
    "print(info['name'])\n",
    "print(info.get('name'))\n",
    "print(info.keys())\n",
    "print(info.values())\n",
    "\n",
    "for key in info:\n",
    "    print(info.keys())\n",
    "    \n",
    "for key, value in info.items():\n",
    "    print(f\"\\nvalue corresponding to key is {key} and value is {value}\")"
   ]
  },
  {
   "cell_type": "code",
   "execution_count": 14,
   "id": "27eb2ea9",
   "metadata": {},
   "outputs": [
    {
     "name": "stdout",
     "output_type": "stream",
     "text": [
      "{'name': 'rohini', 'eligible': 'yes'}\n"
     ]
    },
    {
     "ename": "NameError",
     "evalue": "name 'info' is not defined",
     "output_type": "error",
     "traceback": [
      "\u001b[1;31m---------------------------------------------------------------------------\u001b[0m",
      "\u001b[1;31mNameError\u001b[0m                                 Traceback (most recent call last)",
      "\u001b[1;32m~\\AppData\\Local\\Temp\\ipykernel_7912\\2404778167.py\u001b[0m in \u001b[0;36m<module>\u001b[1;34m\u001b[0m\n\u001b[0;32m      3\u001b[0m \u001b[1;33m\u001b[0m\u001b[0m\n\u001b[0;32m      4\u001b[0m \u001b[1;32mdel\u001b[0m \u001b[0minfo\u001b[0m\u001b[1;33m\u001b[0m\u001b[1;33m\u001b[0m\u001b[0m\n\u001b[1;32m----> 5\u001b[1;33m \u001b[0mprint\u001b[0m\u001b[1;33m(\u001b[0m\u001b[0minfo\u001b[0m\u001b[1;33m)\u001b[0m\u001b[1;33m\u001b[0m\u001b[1;33m\u001b[0m\u001b[0m\n\u001b[0m",
      "\u001b[1;31mNameError\u001b[0m: name 'info' is not defined"
     ]
    }
   ],
   "source": [
    "del info['age']\n",
    "print(info)\n",
    "\n",
    "del info\n",
    "print(info)"
   ]
  },
  {
   "cell_type": "code",
   "execution_count": null,
   "id": "f9fe3293",
   "metadata": {},
   "outputs": [],
   "source": [
    "#slicing\n",
    "\n",
    "\n"
   ]
  },
  {
   "cell_type": "code",
   "execution_count": 69,
   "id": "df7fed7c",
   "metadata": {},
   "outputs": [
    {
     "name": "stdout",
     "output_type": "stream",
     "text": [
      "ood aft\n",
      "good afte\n",
      "fternoon\n",
      "good afternoon\n",
      "\n",
      "\n",
      "\n"
     ]
    }
   ],
   "source": [
    "s = \"good afternoon\"\n",
    "print(s[1:8])\n",
    "print(s[:9])\n",
    "print(s[6:])\n",
    "print(s[:])\n",
    "print(s[-1:-5])\n",
    "print(s[-4:-7])\n",
    "print(s[14:])"
   ]
  },
  {
   "cell_type": "code",
   "execution_count": 70,
   "id": "ab1c6276",
   "metadata": {},
   "outputs": [
    {
     "data": {
      "text/plain": [
       "0"
      ]
     },
     "execution_count": 70,
     "metadata": {},
     "output_type": "execute_result"
    }
   ],
   "source": [
    "s.find('good')"
   ]
  },
  {
   "cell_type": "code",
   "execution_count": 71,
   "id": "ee7b50e1",
   "metadata": {},
   "outputs": [
    {
     "data": {
      "text/plain": [
       "5"
      ]
     },
     "execution_count": 71,
     "metadata": {},
     "output_type": "execute_result"
    }
   ],
   "source": [
    "s.find('afternoon')"
   ]
  },
  {
   "cell_type": "code",
   "execution_count": 72,
   "id": "3dd02c48",
   "metadata": {},
   "outputs": [
    {
     "data": {
      "text/plain": [
       "'better afternoon'"
      ]
     },
     "execution_count": 72,
     "metadata": {},
     "output_type": "execute_result"
    }
   ],
   "source": [
    "s.replace('good','better')"
   ]
  },
  {
   "cell_type": "code",
   "execution_count": 73,
   "id": "5ff92b31",
   "metadata": {},
   "outputs": [
    {
     "data": {
      "text/plain": [
       "['good', 'afternoon']"
      ]
     },
     "execution_count": 73,
     "metadata": {},
     "output_type": "execute_result"
    }
   ],
   "source": [
    "s.split()"
   ]
  },
  {
   "cell_type": "code",
   "execution_count": null,
   "id": "2963ab0c",
   "metadata": {},
   "outputs": [],
   "source": []
  }
 ],
 "metadata": {
  "kernelspec": {
   "display_name": "Python 3 (ipykernel)",
   "language": "python",
   "name": "python3"
  },
  "language_info": {
   "codemirror_mode": {
    "name": "ipython",
    "version": 3
   },
   "file_extension": ".py",
   "mimetype": "text/x-python",
   "name": "python",
   "nbconvert_exporter": "python",
   "pygments_lexer": "ipython3",
   "version": "3.9.13"
  }
 },
 "nbformat": 4,
 "nbformat_minor": 5
}
