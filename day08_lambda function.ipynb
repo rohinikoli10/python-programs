{
 "cells": [
  {
   "cell_type": "code",
   "execution_count": 1,
   "id": "2f3a7022",
   "metadata": {},
   "outputs": [
    {
     "name": "stdout",
     "output_type": "stream",
     "text": [
      "14\n"
     ]
    }
   ],
   "source": [
    "def double(x):                  \n",
    "    return x*2\n",
    "print(double(7))"
   ]
  },
  {
   "cell_type": "code",
   "execution_count": 3,
   "id": "be625781",
   "metadata": {},
   "outputs": [
    {
     "name": "stdout",
     "output_type": "stream",
     "text": [
      "12\n"
     ]
    }
   ],
   "source": [
    "double = lambda x: x*2                     #using lambda\n",
    "print(double(6))"
   ]
  },
  {
   "cell_type": "code",
   "execution_count": 4,
   "id": "c1404a6a",
   "metadata": {},
   "outputs": [
    {
     "name": "stdout",
     "output_type": "stream",
     "text": [
      "941192\n"
     ]
    }
   ],
   "source": [
    "cube = lambda x: x*x*x\n",
    "print(cube(98))"
   ]
  },
  {
   "cell_type": "code",
   "execution_count": 6,
   "id": "37ec7274",
   "metadata": {},
   "outputs": [
    {
     "name": "stdout",
     "output_type": "stream",
     "text": [
      "Enter a no.87\n",
      "7569\n"
     ]
    }
   ],
   "source": [
    "y = int(input('Enter a no.'))\n",
    "sqrt = lambda y: y*y\n",
    "print(sqrt(y))"
   ]
  },
  {
   "cell_type": "code",
   "execution_count": 7,
   "id": "eca4cfe2",
   "metadata": {},
   "outputs": [
    {
     "name": "stdout",
     "output_type": "stream",
     "text": [
      "4.0\n"
     ]
    }
   ],
   "source": [
    "avg = lambda x,y,z: (x+y+z)/3\n",
    "print(avg(5,4,3))"
   ]
  },
  {
   "cell_type": "code",
   "execution_count": 9,
   "id": "da4ea379",
   "metadata": {},
   "outputs": [
    {
     "name": "stdout",
     "output_type": "stream",
     "text": [
      "69\n"
     ]
    }
   ],
   "source": [
    "def appl(fx,value):\n",
    "    return 5 + fx(value)\n",
    "print(appl(lambda x: x*x, 8))"
   ]
  },
  {
   "cell_type": "code",
   "execution_count": 10,
   "id": "a61c0c56",
   "metadata": {},
   "outputs": [
    {
     "name": "stdout",
     "output_type": "stream",
     "text": [
      "[1, 8, 64, 125, 343, 512]\n"
     ]
    }
   ],
   "source": [
    "#MAP\n",
    "\n",
    "l = [1,2,4,5,7,8]\n",
    "newl = list(map(cube,l))\n",
    "print(newl)"
   ]
  },
  {
   "cell_type": "code",
   "execution_count": 14,
   "id": "6fddf7bf",
   "metadata": {},
   "outputs": [
    {
     "name": "stdout",
     "output_type": "stream",
     "text": [
      "[4, 5, 7, 8]\n"
     ]
    }
   ],
   "source": [
    "#FILTER\n",
    "\n",
    "def filter_function(a):\n",
    "    return a>3\n",
    "newl2 = list(filter(filter_function,l))\n",
    "print(newl2)"
   ]
  },
  {
   "cell_type": "code",
   "execution_count": 20,
   "id": "675f4467",
   "metadata": {},
   "outputs": [
    {
     "name": "stdout",
     "output_type": "stream",
     "text": [
      "[1156, 4225, 1156, 4225, 7569, 484, 81, 25]\n",
      "[65, 65, 87]\n"
     ]
    }
   ],
   "source": [
    "l2 = [34,65,34,65,87,22,9,5]\n",
    "newl2 = list(map(sqrt,l2))\n",
    "print(newl2)\n",
    "def filter_func(x):\n",
    "    return x>40\n",
    "print(list(filter(filter_func,l2)))\n"
   ]
  },
  {
   "cell_type": "code",
   "execution_count": 24,
   "id": "f0953a96",
   "metadata": {},
   "outputs": [
    {
     "name": "stdout",
     "output_type": "stream",
     "text": [
      "45\n"
     ]
    }
   ],
   "source": [
    "from functools import reduce\n",
    "numbers = [1,2,3,3,4,5,6,6,7,8]             #gives sum of all elements in list\n",
    "def mysum(x,y):\n",
    "    return x+y\n",
    "sum = reduce(mysum,numbers)\n",
    "print(sum)  "
   ]
  },
  {
   "cell_type": "code",
   "execution_count": 29,
   "id": "da4673c4",
   "metadata": {},
   "outputs": [
    {
     "name": "stdout",
     "output_type": "stream",
     "text": [
      "False\n",
      "False\n"
     ]
    }
   ],
   "source": [
    "#is vs ==\n",
    "\n",
    "a = 5\n",
    "b = '5'\n",
    "print(a is b)       #exact location of object in memory\n",
    "print(a == b)          #value"
   ]
  },
  {
   "cell_type": "code",
   "execution_count": 30,
   "id": "93d50cc3",
   "metadata": {},
   "outputs": [
    {
     "name": "stdout",
     "output_type": "stream",
     "text": [
      "True\n",
      "True\n"
     ]
    }
   ],
   "source": [
    "a = 5\n",
    "b = 5\n",
    "print(a is b)\n",
    "print(a == b)"
   ]
  },
  {
   "cell_type": "code",
   "execution_count": 31,
   "id": "7aec02d9",
   "metadata": {},
   "outputs": [
    {
     "name": "stdout",
     "output_type": "stream",
     "text": [
      "True\n",
      "True\n"
     ]
    }
   ],
   "source": [
    "a = None\n",
    "b = None\n",
    "print(a is None)\n",
    "print(a == b)"
   ]
  },
  {
   "cell_type": "code",
   "execution_count": null,
   "id": "7d1673a7",
   "metadata": {},
   "outputs": [],
   "source": []
  }
 ],
 "metadata": {
  "kernelspec": {
   "display_name": "Python 3 (ipykernel)",
   "language": "python",
   "name": "python3"
  },
  "language_info": {
   "codemirror_mode": {
    "name": "ipython",
    "version": 3
   },
   "file_extension": ".py",
   "mimetype": "text/x-python",
   "name": "python",
   "nbconvert_exporter": "python",
   "pygments_lexer": "ipython3",
   "version": "3.9.13"
  }
 },
 "nbformat": 4,
 "nbformat_minor": 5
}
