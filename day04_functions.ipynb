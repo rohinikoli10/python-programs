{
 "cells": [
  {
   "cell_type": "code",
   "execution_count": 2,
   "id": "f380e45f",
   "metadata": {},
   "outputs": [],
   "source": [
    "#syntax\n",
    "\n",
    "#def fun_name(parameters):     //defination\n",
    "    #statements\n",
    "    #return arguments\n",
    "    \n",
    "#fun name()         //calling"
   ]
  },
  {
   "cell_type": "code",
   "execution_count": 35,
   "id": "c3005915",
   "metadata": {},
   "outputs": [
    {
     "name": "stdout",
     "output_type": "stream",
     "text": [
      "Hello Rohini\n"
     ]
    }
   ],
   "source": [
    "def fun(name):\n",
    "    print(\"Hello\",name)\n",
    "    \n",
    "fun(\"Rohini\")  "
   ]
  },
  {
   "cell_type": "code",
   "execution_count": 38,
   "id": "4b1e1f84",
   "metadata": {},
   "outputs": [
    {
     "name": "stdout",
     "output_type": "stream",
     "text": [
      "Enter a number=45\n",
      "90\n"
     ]
    }
   ],
   "source": [
    "n=int(input(\"Enter a number=\"))\n",
    "def double(n):\n",
    "    if(n>0):\n",
    "        print(n*2)\n",
    "    else:\n",
    "        print(n) \n",
    "        \n",
    "double(n)"
   ]
  },
  {
   "cell_type": "code",
   "execution_count": 39,
   "id": "ba87052d",
   "metadata": {},
   "outputs": [
    {
     "name": "stdout",
     "output_type": "stream",
     "text": [
      "Even= [0, 2, 4, 6, 8, 10, 12, 14, 16, 18]\n",
      "Odd= [1, 3, 5, 7, 9, 11, 13, 15, 17, 19]\n"
     ]
    }
   ],
   "source": [
    "even = []\n",
    "odd = []\n",
    "def evenodd(n):\n",
    "    for i in range(n):\n",
    "        if(i%2==0):\n",
    "            even.append(i)\n",
    "        else:\n",
    "            odd.append(i)\n",
    "            \n",
    "evenodd(20)\n",
    "print(\"Even=\",even)\n",
    "print(\"Odd=\",odd)\n",
    "            "
   ]
  },
  {
   "cell_type": "code",
   "execution_count": 23,
   "id": "7a525328",
   "metadata": {},
   "outputs": [
    {
     "name": "stdout",
     "output_type": "stream",
     "text": [
      "Average is:  35.5\n"
     ]
    }
   ],
   "source": [
    "def average(*numbers):\n",
    "    sum = 0\n",
    "    for i in numbers:\n",
    "        sum = sum + i\n",
    "        \n",
    "    print(\"Average is: \", sum/len(numbers))\n",
    "        \n",
    "average(5,98,34,5)       "
   ]
  },
  {
   "cell_type": "code",
   "execution_count": 25,
   "id": "5b1cb4db",
   "metadata": {},
   "outputs": [
    {
     "name": "stdout",
     "output_type": "stream",
     "text": [
      "<class 'dict'>\n",
      "Hello Rohini Suresh Koli\n"
     ]
    }
   ],
   "source": [
    "def name(**name):\n",
    "    print(type(name))\n",
    "    print(\"Hello\", name[\"fname\"], name[\"mname\"], name[\"lname\"])\n",
    "    \n",
    "name(fname=\"Rohini\", mname=\"Suresh\", lname=\"Koli\")"
   ]
  },
  {
   "cell_type": "code",
   "execution_count": 46,
   "id": "27ba567b",
   "metadata": {},
   "outputs": [
    {
     "name": "stdout",
     "output_type": "stream",
     "text": [
      "Name= Rohini \n",
      "Roll number= 29\n"
     ]
    }
   ],
   "source": [
    "def stud(name,rollno):\n",
    "    print(\"Name=\",name , \"\\nRoll number=\",rollno)\n",
    "    \n",
    "stud(\"Rohini\",29)"
   ]
  },
  {
   "cell_type": "code",
   "execution_count": 50,
   "id": "b83b8619",
   "metadata": {},
   "outputs": [
    {
     "name": "stdout",
     "output_type": "stream",
     "text": [
      "Name= Rohini, Roll_no.= 29 \n",
      "branch= AI&DS, City= Solapur\n"
     ]
    }
   ],
   "source": [
    "def stud(name,rollno,branch,city):\n",
    "    print(\"Name=\",name , \"Roll_no.=\",rollno , \"\\nbranch=\",branch , \"City=\",city)\n",
    "    \n",
    "stud(\"Rohini,\",29,\"AI&DS,\",\"Solapur\")"
   ]
  },
  {
   "cell_type": "code",
   "execution_count": 34,
   "id": "66d71996",
   "metadata": {},
   "outputs": [
    {
     "name": "stdout",
     "output_type": "stream",
     "text": [
      "both are equal\n",
      "56.0\n"
     ]
    }
   ],
   "source": [
    "def calculateMean(a,b):\n",
    "    mean = (a+b)/2\n",
    "    print(mean)\n",
    "    \n",
    "a=56\n",
    "b=56\n",
    "if(a==b):\n",
    "    print(\"both are equal\")\n",
    "elif(a>b):\n",
    "    print(\"a is greater\")\n",
    "else:\n",
    "    print(\"b is greater\")\n",
    "\n",
    "calculateMean(a,b)\n"
   ]
  },
  {
   "cell_type": "code",
   "execution_count": null,
   "id": "edc0a444",
   "metadata": {},
   "outputs": [],
   "source": [
    "#Nested function\n"
   ]
  },
  {
   "cell_type": "code",
   "execution_count": 14,
   "id": "53ba43e2",
   "metadata": {},
   "outputs": [
    {
     "name": "stdout",
     "output_type": "stream",
     "text": [
      "inner function\n",
      "inner function2\n"
     ]
    }
   ],
   "source": [
    "def outer():\n",
    "    def inner():\n",
    "        print(\"inner function\")\n",
    "        def inner2():\n",
    "            print(\"inner function2\")\n",
    "            \n",
    "        inner2()\n",
    "    inner()\n",
    "outer() "
   ]
  },
  {
   "cell_type": "code",
   "execution_count": 4,
   "id": "9b2c31f4",
   "metadata": {},
   "outputs": [
    {
     "name": "stdout",
     "output_type": "stream",
     "text": [
      "221\n"
     ]
    }
   ],
   "source": [
    "def appl(fx,value):\n",
    "    return 5 + fx(value)\n",
    "cube = lambda x: x*x*x\n",
    "print(appl(cube,6))"
   ]
  },
  {
   "cell_type": "code",
   "execution_count": null,
   "id": "6cc8b683",
   "metadata": {},
   "outputs": [],
   "source": []
  }
 ],
 "metadata": {
  "kernelspec": {
   "display_name": "Python 3 (ipykernel)",
   "language": "python",
   "name": "python3"
  },
  "language_info": {
   "codemirror_mode": {
    "name": "ipython",
    "version": 3
   },
   "file_extension": ".py",
   "mimetype": "text/x-python",
   "name": "python",
   "nbconvert_exporter": "python",
   "pygments_lexer": "ipython3",
   "version": "3.9.13"
  }
 },
 "nbformat": 4,
 "nbformat_minor": 5
}
