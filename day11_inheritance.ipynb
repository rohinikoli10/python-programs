{
 "cells": [
  {
   "cell_type": "code",
   "execution_count": 4,
   "id": "59470478",
   "metadata": {},
   "outputs": [
    {
     "name": "stdout",
     "output_type": "stream",
     "text": [
      "I am rohini koli having salary $1000\n",
      "I am pallavi jawalgi having salary $2000\n",
      "my language is python\n"
     ]
    }
   ],
   "source": [
    "class Employee():\n",
    "    \n",
    "    def __init__(self, name, salary):\n",
    "        self.name = name\n",
    "        self.salary = salary\n",
    "        \n",
    "    def getdetails(self):\n",
    "        print(f\"I am {self.name} having salary ${self.salary}\")\n",
    "        \n",
    "class programmer(Employee):\n",
    "    \n",
    "    def showLanguage(self):\n",
    "        print(\"my language is python\")\n",
    "        \n",
    "emp1 = Employee('rohini koli',1000) \n",
    "emp2 = programmer('pallavi jawalgi', 2000)\n",
    "emp1.getdetails()\n",
    "emp2.getdetails()\n",
    "emp2.showLanguage()"
   ]
  },
  {
   "cell_type": "code",
   "execution_count": null,
   "id": "d0547d17",
   "metadata": {},
   "outputs": [],
   "source": []
  }
 ],
 "metadata": {
  "kernelspec": {
   "display_name": "Python 3 (ipykernel)",
   "language": "python",
   "name": "python3"
  },
  "language_info": {
   "codemirror_mode": {
    "name": "ipython",
    "version": 3
   },
   "file_extension": ".py",
   "mimetype": "text/x-python",
   "name": "python",
   "nbconvert_exporter": "python",
   "pygments_lexer": "ipython3",
   "version": "3.9.13"
  }
 },
 "nbformat": 4,
 "nbformat_minor": 5
}
