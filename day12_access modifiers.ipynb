{
 "cells": [
  {
   "cell_type": "code",
   "execution_count": 3,
   "id": "33245caf",
   "metadata": {},
   "outputs": [
    {
     "name": "stdout",
     "output_type": "stream",
     "text": [
      "rohini\n"
     ]
    }
   ],
   "source": [
    "#public access specifier\n",
    "\n",
    "#all th methods and variables in python are default public\n",
    "#any instance variable in class followed by 'self' keyword i.e. self.var_name are public accessed\n",
    "\n",
    "class employee():\n",
    "    def __init__(self):\n",
    "        self.name = 'rohini'\n",
    "        \n",
    "e = employee()\n",
    "print(e.name)"
   ]
  },
  {
   "cell_type": "code",
   "execution_count": 4,
   "id": "81ec29e8",
   "metadata": {},
   "outputs": [
    {
     "name": "stdout",
     "output_type": "stream",
     "text": [
      "rohini\n"
     ]
    }
   ],
   "source": [
    "#private access specifier\n",
    "\n",
    "#only accessible inside the class\n",
    "\n",
    "#NAME MANGLING : used to protect class-private and superclass-private attributes from being accidently overwritter by subclasses\n",
    "\n",
    "class employee():\n",
    "    def __init__(self):\n",
    "        self.__name = 'rohini'\n",
    "        \n",
    "e = employee()\n",
    "#print(e.__name)      cannot be accessed directly\n",
    "print(e._employee__name)    #can be accessed indirectly by underscore"
   ]
  },
  {
   "cell_type": "code",
   "execution_count": 5,
   "id": "2a1067e7",
   "metadata": {},
   "outputs": [
    {
     "name": "stdout",
     "output_type": "stream",
     "text": [
      "['_employee__name', '__module__', '__init__', '__dict__', '__weakref__', '__doc__', '__repr__', '__hash__', '__str__', '__getattribute__', '__setattr__', '__delattr__', '__lt__', '__le__', '__eq__', '__ne__', '__gt__', '__ge__', '__new__', '__reduce_ex__', '__reduce__', '__subclasshook__', '__init_subclass__', '__format__', '__sizeof__', '__dir__', '__class__']\n"
     ]
    }
   ],
   "source": [
    "print(e.__dir__())"
   ]
  },
  {
   "cell_type": "code",
   "execution_count": 10,
   "id": "9f2c8982",
   "metadata": {},
   "outputs": [
    {
     "name": "stdout",
     "output_type": "stream",
     "text": [
      "rohini\n",
      "koli\n",
      "rohini\n",
      "koli\n"
     ]
    }
   ],
   "source": [
    "#protected access modifier\n",
    "\n",
    "#only accessed by class itself and its subclasses\n",
    "\n",
    "class student():\n",
    "    def __init__(self):\n",
    "        self._name = 'rohini'\n",
    "        \n",
    "    def _funcName(self):\n",
    "        return \"koli\"\n",
    "    \n",
    "class subject(student):\n",
    "    pass \n",
    "\n",
    "s = student()\n",
    "s2 = subject()\n",
    "\n",
    "print(s._name)\n",
    "print(s._funcName())\n",
    "\n",
    "print(s2._name)\n",
    "print(s2._funcName())"
   ]
  },
  {
   "cell_type": "code",
   "execution_count": 12,
   "id": "9e5d6c04",
   "metadata": {},
   "outputs": [
    {
     "name": "stdout",
     "output_type": "stream",
     "text": [
      "['__class__', '__delattr__', '__dict__', '__dir__', '__doc__', '__eq__', '__format__', '__ge__', '__getattribute__', '__gt__', '__hash__', '__init__', '__init_subclass__', '__le__', '__lt__', '__module__', '__ne__', '__new__', '__reduce__', '__reduce_ex__', '__repr__', '__setattr__', '__sizeof__', '__str__', '__subclasshook__', '__weakref__', '_funcName', '_name']\n"
     ]
    }
   ],
   "source": [
    "print(dir(s))"
   ]
  },
  {
   "cell_type": "code",
   "execution_count": null,
   "id": "b1c0f7a9",
   "metadata": {},
   "outputs": [],
   "source": []
  }
 ],
 "metadata": {
  "kernelspec": {
   "display_name": "Python 3 (ipykernel)",
   "language": "python",
   "name": "python3"
  },
  "language_info": {
   "codemirror_mode": {
    "name": "ipython",
    "version": 3
   },
   "file_extension": ".py",
   "mimetype": "text/x-python",
   "name": "python",
   "nbconvert_exporter": "python",
   "pygments_lexer": "ipython3",
   "version": "3.9.13"
  }
 },
 "nbformat": 4,
 "nbformat_minor": 5
}
