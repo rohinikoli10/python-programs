{
 "cells": [
  {
   "cell_type": "code",
   "execution_count": null,
   "id": "0dd85811",
   "metadata": {},
   "outputs": [],
   "source": [
    "#short hand if else"
   ]
  },
  {
   "cell_type": "code",
   "execution_count": 1,
   "id": "b7e83f87",
   "metadata": {},
   "outputs": [
    {
     "name": "stdout",
     "output_type": "stream",
     "text": [
      "b is greater than a\n"
     ]
    }
   ],
   "source": [
    "a = 56\n",
    "b = 87\n",
    "print(\"a is greater than b\") if a>b else print(\"b is greater than a\") if b>a else print(\"both are same\")"
   ]
  },
  {
   "cell_type": "code",
   "execution_count": null,
   "id": "75a84711",
   "metadata": {},
   "outputs": [],
   "source": [
    "#enumerate function\n"
   ]
  },
  {
   "cell_type": "code",
   "execution_count": 3,
   "id": "018c2848",
   "metadata": {},
   "outputs": [
    {
     "name": "stdout",
     "output_type": "stream",
     "text": [
      "45\n",
      "65\n",
      "26\n",
      "89\n",
      "25\n",
      "99\n",
      "best\n",
      "88\n"
     ]
    }
   ],
   "source": [
    "marks = [45, 65, 26, 89, 25, 99, 88]\n",
    "\n",
    "index = 0\n",
    "for mark in marks:\n",
    "    print(mark)\n",
    "    if (index == 5):\n",
    "        print(\"best\")\n",
    "    index += 1"
   ]
  },
  {
   "cell_type": "code",
   "execution_count": 4,
   "id": "a4d2cb94",
   "metadata": {},
   "outputs": [
    {
     "name": "stdout",
     "output_type": "stream",
     "text": [
      "45\n",
      "65\n",
      "26\n",
      "89\n",
      "25\n",
      "99\n",
      "best\n",
      "88\n"
     ]
    }
   ],
   "source": [
    "marks = [45, 65, 26, 89, 25, 99, 88]\n",
    "\n",
    "for index, mark in enumerate(marks):              #enumerate function\n",
    "    print(mark)\n",
    "    if (index == 5):\n",
    "        print(\"best\")"
   ]
  },
  {
   "cell_type": "code",
   "execution_count": null,
   "id": "3679a91f",
   "metadata": {},
   "outputs": [],
   "source": []
  }
 ],
 "metadata": {
  "kernelspec": {
   "display_name": "Python 3 (ipykernel)",
   "language": "python",
   "name": "python3"
  },
  "language_info": {
   "codemirror_mode": {
    "name": "ipython",
    "version": 3
   },
   "file_extension": ".py",
   "mimetype": "text/x-python",
   "name": "python",
   "nbconvert_exporter": "python",
   "pygments_lexer": "ipython3",
   "version": "3.9.13"
  }
 },
 "nbformat": 4,
 "nbformat_minor": 5
}
